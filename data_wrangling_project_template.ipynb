{
 "cells": [
  {
   "cell_type": "code",
   "execution_count": null,
   "metadata": {
    "hideCode": true,
    "hidePrompt": true
   },
   "outputs": [],
   "source": []
  },
  {
   "cell_type": "markdown",
   "metadata": {
    "hideCode": true,
    "hidePrompt": true
   },
   "source": [
    "## Project: Data Wrangling using Pandas and Regex\n",
    "\n",
    "In this project you are asked __to implement__ and __perform a unit testing__ for a series of Python functions (Q1-Q13) that are typically required during the ***data wrangling*** phase of the end-to-end data science pipeline. A subset of unit testing functions is provided for you. You are expected to write unit testing for all the remaining functions.\n",
    "\n",
    "__Data Wrangling consists of the following main steps:__\n",
    "\n",
    "* Data Acquisition\n",
    "* Data Cleansing\n",
    "* Data Understanding: Basics\n",
    "* Data Manipulation\n",
    "  \n",
    "  \n",
    "__1. Data Acquisition Objectives__\n",
    "\n",
    "* Question 1: How to import multiples files for storage and access? (store filenames in array)\n",
    "* Question 2: How to import data in different formats? (read_excel, read_csv)\n",
    "* Question 2: How are they read into by pandas? (DataFrame)\n",
    "* Question 4: How to have a peek at the data after import? (head/tail)\n",
    "\n",
    "__2. Data Cleansing Objectives__\n",
    "\n",
    "* Question 5: Check attributes of each file\n",
    "* Question 5: Identify data types\n",
    "* Question 5: Apply coercion if applicable\n",
    "* Question 5: Check for NA/missing data\n",
    "* Question 6: Remove/replace corrupt data\n",
    "* Question 6: Identify duplicate data\n",
    "* Question 6: Check for corrupt/incorrect data  \n",
    "\n",
    "* Check for data consistency (e.g. GPA cannot be less than 0)\n",
    "* Identifying and removing outliers\n",
    "\n",
    "__3. Data Understanding Objectives__\n",
    "\n",
    "* Question 7: Basic Summary Statistics\n",
    "* Question 9: Dimensionality\n",
    "\n",
    "__4. Data Manipulation Objectives__\n",
    "\n",
    "* Question 11: Merge/Concatenate DataFrame\n",
    "* Question 11: Mapping to create a new attribute\n",
    "* Question 11: Incorporate the use of multiple functions\n",
    "* Question 12: Filter to subset the data\n",
    "* Question 13: Discretize data \n",
    "  \n",
    "  \n",
    "__Regular Expressions:__ *Regular expressions are used in conjunction with other preprocessing steps for matching/parsing patterns.*\n",
    "\n",
    "* Questions 2/5/6: Filter to subset the dataUse regular expressions to find/match specific content\n",
    "* Question 6: Filter to subset the dataString manipulation via. substring and replace methods"
   ]
  },
  {
   "cell_type": "markdown",
   "metadata": {
    "hideCode": true,
    "hidePrompt": true
   },
   "source": [
    "## Install Required Packages\n",
    "\n",
    "If you do not have Anaconda installed, then you may need to install the following packages using the following commands (Note: If you have Anaconda installed, then you already have Pandas and `regex`):\n",
    "\n",
    "> pip3 install pandas  \n",
    "  \n",
    "> pip3 install regex\n",
    "\n",
    "## INSTRUCTIONS: In all the functions, remove the `pass` statement and write your code."
   ]
  },
  {
   "cell_type": "code",
   "execution_count": 1,
   "metadata": {
    "hideCode": false,
    "hidePrompt": true
   },
   "outputs": [],
   "source": [
    "import pandas as pd\n",
    "import re\n",
    "import glob\n",
    "import copy\n",
    "\n",
    "%matplotlib inline\n",
    "import matplotlib.pyplot as plt"
   ]
  },
  {
   "cell_type": "markdown",
   "metadata": {
    "hideCode": false,
    "hidePrompt": true
   },
   "source": [
    "### __Question 1: Write a function to import all excel file names into a list.__\n",
    "\n",
    "_Hint: Use the glob module._"
   ]
  },
  {
   "cell_type": "code",
   "execution_count": 2,
   "metadata": {
    "hideCode": false,
    "hidePrompt": true,
    "scrolled": true
   },
   "outputs": [
    {
     "name": "stdout",
     "output_type": "stream",
     "text": [
      "['./data_raw\\\\Python-QUIZ Coercion (6 min.)-grades.xlsx', './data_raw\\\\Python-QUIZ Conditionals (6 min.)-grades.xlsx', './data_raw\\\\Python-QUIZ Dictionaries (10 min.)-grades.xlsx', './data_raw\\\\Python-QUIZ Exceptions (10 min.)-grades.xlsx', './data_raw\\\\Python-QUIZ Functions (18 min.)-grades.xlsx', './data_raw\\\\Python-QUIZ Iterations (6 min.)-grades.xlsx', './data_raw\\\\Python-QUIZ Lists (10 min.)-grades.xlsx', './data_raw\\\\Python-QUIZ Sets (7 min)-grades.xlsx', './data_raw\\\\Python-QUIZ Strings (5 min.)-grades.xlsx', './data_raw\\\\Python-QUIZ Taxonomy of Python Data Structures (12 min.)-grades.xlsx', './data_raw\\\\Python-QUIZ Tuples (10 min.)-grades.xlsx']\n"
     ]
    }
   ],
   "source": [
    "def Q1_function():\n",
    "    \"\"\"\n",
    "    :type : None\n",
    "    :rtype: List[String]\n",
    "    \"\"\"\n",
    "    # TYPE YOUR CODE HERE    \n",
    "    nameofiles = []\n",
    "    location = r'./data_raw'\n",
    "    nameoffiles = glob.glob(location + r\"/*.xlsx\")    #return a names of all files\n",
    "    return nameoffiles    \n",
    "\n",
    "\n",
    "# Call the function and print the result. This result is used in subsequent questions.\n",
    "filenames = Q1_function()\n",
    "print(filenames)"
   ]
  },
  {
   "cell_type": "markdown",
   "metadata": {
    "hideCode": false,
    "hidePrompt": true
   },
   "source": [
    "### __Question 2: Write a function to return the name of the excel file based on a given string. *(The string is defined for you)*__  \n",
    "*Hints: Use the following.*\n",
    "* Regex 're.search' function.\n",
    "* Pandas function 'read_excel'"
   ]
  },
  {
   "cell_type": "code",
   "execution_count": 3,
   "metadata": {
    "hideCode": false,
    "hidePrompt": true
   },
   "outputs": [
    {
     "name": "stdout",
     "output_type": "stream",
     "text": [
      "Python-QUIZ Dictionaries (10 min.)-grades.xlsx\n"
     ]
    }
   ],
   "source": [
    "def Q2_function(files, s):\n",
    "    \"\"\"\n",
    "    :type : List[String], String\n",
    "    :rtype: String\n",
    "    \"\"\"\n",
    "    # TYPE YOUR CODE HERE\n",
    "                   \n",
    "    \n",
    "    for filename in files:\n",
    "        if re.search(\".*\"+s, filename):\n",
    "            return filename.split(\"/\")[-1].split(\"\\\\\")[-1]   #used to split and return the name of the file\n",
    "    \n",
    "        \n",
    "\n",
    "# Call the function and print the result. Use this to check the correctness of your code and for debugging.\n",
    "file = Q2_function(filenames, s = \"Dictionaries\")\n",
    "print(file)"
   ]
  },
  {
   "cell_type": "markdown",
   "metadata": {
    "hideCode": false,
    "hidePrompt": true
   },
   "source": [
    "### __Question 3: Write a function to load the \"Functions\" excel file into a Pandas DataFrame.__  \n",
    "*Hint: Remember you have executed functions in Questions 1 and 2. Try using them here. You can save some coding time!*  \n",
    "* Use the result from Question 1.\n",
    "* Use the function written in Question 2.\n",
    "* Use the Pandas function 'read_excel' to import an excel file."
   ]
  },
  {
   "cell_type": "code",
   "execution_count": 4,
   "metadata": {
    "hideCode": false,
    "hidePrompt": true
   },
   "outputs": [
    {
     "name": "stdout",
     "output_type": "stream",
     "text": [
      "       State                  Started on                   Completed  \\\n",
      "0   Finished    February 5 2018  3:19 PM    February 5 2018  3:34 PM   \n",
      "1   Finished    February 4 2018  4:01 PM    February 4 2018  4:19 PM   \n",
      "2   Finished    February 6 2018  3:57 PM    February 6 2018  4:12 PM   \n",
      "3   Finished   February 10 2018  4:05 PM   February 10 2018  4:23 PM   \n",
      "4   Finished    February 4 2018  4:59 PM    February 4 2018  5:16 PM   \n",
      "5   Finished    February 5 2018  5:20 PM    February 5 2018  5:38 PM   \n",
      "6   Finished   February 10 2018  9:49 PM  February 10 2018  10:07 PM   \n",
      "7   Finished    February 5 2018  8:30 PM    February 5 2018  8:48 PM   \n",
      "8   Finished   February 13 2018  4:17 AM   February 13 2018  4:35 AM   \n",
      "9   Finished   February 12 2018  2:19 PM   February 12 2018  2:35 PM   \n",
      "10  Finished  February 13 2018  10:45 AM  February 13 2018  11:03 AM   \n",
      "11  Finished   February 11 2018  1:48 AM   February 11 2018  2:06 AM   \n",
      "12  Finished    February 5 2018  5:20 PM    February 5 2018  5:38 PM   \n",
      "13  Finished   February 10 2018  9:49 PM  February 10 2018  10:07 PM   \n",
      "14  Finished   February 13 2018  7:07 PM   February 13 2018  7:20 PM   \n",
      "15  Finished    February 6 2018  3:57 PM    February 6 2018  4:12 PM   \n",
      "16  Finished    February 5 2018  6:52 PM    February 5 2018  7:10 PM   \n",
      "17  Finished  February 13 2018  11:33 AM  February 13 2018  11:51 AM   \n",
      "18  Finished   February 11 2018  3:39 PM   February 11 2018  3:57 PM   \n",
      "19  Finished    February 5 2018  8:30 PM    February 5 2018  8:48 PM   \n",
      "20  Finished   February 6 2018  10:41 AM   February 6 2018  11:30 AM   \n",
      "21  Finished   February 11 2018  4:20 PM   February 11 2018  4:38 PM   \n",
      "22  Finished   February 12 2018  7:52 PM   February 12 2018  8:07 PM   \n",
      "23  Finished   February 12 2018  2:19 PM   February 12 2018  2:35 PM   \n",
      "\n",
      "         Time taken  Grade/45.00  Q. 1 /5.00  Q. 2 /10.00  Q. 3 /6.00  \\\n",
      "0   14 mins 16 secs           32           5            6           6   \n",
      "1   17 mins 54 secs           31           5            8           6   \n",
      "2   15 mins 44 secs           20           3            4           3   \n",
      "3           18 mins           30           5            6           6   \n",
      "4   17 mins 31 secs           26           5            6           6   \n",
      "5   17 mins 59 secs           25           5            6           6   \n",
      "6           18 mins           24           5            6           6   \n",
      "7           18 mins           23           5            6           0   \n",
      "8     18 mins 1 sec           23           4            4           6   \n",
      "9   16 mins 44 secs           22           4            4           6   \n",
      "10    18 mins 1 sec           22           5            8           6   \n",
      "11          18 mins           21           5           10           6   \n",
      "12  17 mins 59 secs           25           5            6           6   \n",
      "13          18 mins           24           5            6           6   \n",
      "14  12 mins 59 secs           21           4            4           3   \n",
      "15  15 mins 44 secs           20           3            4           3   \n",
      "16    18 mins 1 sec           17           4            4           6   \n",
      "17          18 mins           17           5            4           3   \n",
      "18    18 mins 1 sec           16           3            6           3   \n",
      "19          18 mins           23           5            6           0   \n",
      "20  48 mins 39 secs           15           4            2           3   \n",
      "21    18 mins 1 sec           13           3            4           6   \n",
      "22  14 mins 31 secs           13           3            4           6   \n",
      "23  16 mins 44 secs           22           4            4           6   \n",
      "\n",
      "   Q. 4 /6.00 Q. 5 /12.00 Q. 6 /6.00  id  \n",
      "0        3.00       12.00       0.00   0  \n",
      "1           -       12.00       0.00   1  \n",
      "2           -       10.00       0.00  12  \n",
      "3        3.00       10.00          -   2  \n",
      "4        3.00        6.00       0.00   3  \n",
      "5        6.00        2.00       0.00   4  \n",
      "6        3.00        4.00          -   5  \n",
      "7        0.00        6.00       6.00   6  \n",
      "8        3.00        6.00       0.00   7  \n",
      "9        0.00        8.00       0.00   8  \n",
      "10       3.00           -          -   9  \n",
      "11          -           -          -  10  \n",
      "12       6.00        2.00       0.00   4  \n",
      "13       3.00        4.00          -   5  \n",
      "14       0.00        4.00       6.00  11  \n",
      "15          -       10.00       0.00  12  \n",
      "16       3.00        0.00          -  13  \n",
      "17       3.00        2.00       0.00  14  \n",
      "18       0.00        4.00          -  15  \n",
      "19       0.00        6.00       6.00   6  \n",
      "20       0.00        6.00       0.00  16  \n",
      "21          -           -          -  17  \n",
      "22       0.00        0.00       0.00  18  \n",
      "23       0.00        8.00       0.00   8  \n"
     ]
    }
   ],
   "source": [
    "def Q3_function(files, s):\n",
    "    \"\"\"\n",
    "    :type : List[String], String\n",
    "    :rtype: Pandas DataFrame\n",
    "    \"\"\"\n",
    "    # TYPE YOUR CODE HERE\n",
    "    \n",
    "    nameoffile = Q2_function(files, s)\n",
    "    dataframe = pd.read_excel(r'./data_raw/'+nameoffile)    #reads the excel file into a dataframe\n",
    "    dataframe = dataframe.drop(columns=['Unnamed: 0'])      #dropping the unnamed column\n",
    "    return dataframe\n",
    "\n",
    "# Call the function and print the result. This result is used in subsequent questions.\n",
    "functions_df = Q3_function(filenames, s = \"Functions\")\n",
    "print(functions_df)\n",
    "# functions_df.head(3)"
   ]
  },
  {
   "cell_type": "code",
   "execution_count": null,
   "metadata": {},
   "outputs": [],
   "source": []
  },
  {
   "cell_type": "raw",
   "metadata": {
    "hideCode": false,
    "hidePrompt": true
   },
   "source": [
    " __Question 4: Using the output obtained in Question 3 as input for the current question, write a function to do the following.__  \n",
    "* Find all the names of the columns and return as a list.\n",
    "* Find the subset of the DataFrame (use `df.loc`) and return the new DataFrame. Include the following columns:   \n",
    "_\"id\", \"Time taken\", \"Grade/45.00\", \"Q. 1 /5.00\", \"Q. 2 /10.00\", \"Q. 3 /6.00\", \"Q. 4 /6.00\", \"Q. 5 /12.00\", \"Q. 6 /6.00\"_\n",
    "* Return the top 10 rows (use `df.head function`).\n",
    "\n",
    "Learn about returning multiple values in Python."
   ]
  },
  {
   "cell_type": "code",
   "execution_count": 5,
   "metadata": {
    "hideCode": false,
    "hidePrompt": true
   },
   "outputs": [
    {
     "name": "stdout",
     "output_type": "stream",
     "text": [
      "Column Names\n",
      "['State', 'Started on', 'Completed', 'Time taken', 'Grade/45.00', 'Q. 1 /5.00', 'Q. 2 /10.00', 'Q. 3 /6.00', 'Q. 4 /6.00', 'Q. 5 /12.00', 'Q. 6 /6.00', 'id']\n",
      "\n",
      "Subsetted Data\n",
      "    id       Time taken  Grade/45.00  Q. 1 /5.00  Q. 2 /10.00  Q. 3 /6.00  \\\n",
      "0    0  14 mins 16 secs           32           5            6           6   \n",
      "1    1  17 mins 54 secs           31           5            8           6   \n",
      "2   12  15 mins 44 secs           20           3            4           3   \n",
      "3    2          18 mins           30           5            6           6   \n",
      "4    3  17 mins 31 secs           26           5            6           6   \n",
      "5    4  17 mins 59 secs           25           5            6           6   \n",
      "6    5          18 mins           24           5            6           6   \n",
      "7    6          18 mins           23           5            6           0   \n",
      "8    7    18 mins 1 sec           23           4            4           6   \n",
      "9    8  16 mins 44 secs           22           4            4           6   \n",
      "10   9    18 mins 1 sec           22           5            8           6   \n",
      "11  10          18 mins           21           5           10           6   \n",
      "12   4  17 mins 59 secs           25           5            6           6   \n",
      "13   5          18 mins           24           5            6           6   \n",
      "14  11  12 mins 59 secs           21           4            4           3   \n",
      "15  12  15 mins 44 secs           20           3            4           3   \n",
      "16  13    18 mins 1 sec           17           4            4           6   \n",
      "17  14          18 mins           17           5            4           3   \n",
      "18  15    18 mins 1 sec           16           3            6           3   \n",
      "19   6          18 mins           23           5            6           0   \n",
      "20  16  48 mins 39 secs           15           4            2           3   \n",
      "21  17    18 mins 1 sec           13           3            4           6   \n",
      "22  18  14 mins 31 secs           13           3            4           6   \n",
      "23   8  16 mins 44 secs           22           4            4           6   \n",
      "\n",
      "   Q. 4 /6.00 Q. 5 /12.00 Q. 6 /6.00  \n",
      "0        3.00       12.00       0.00  \n",
      "1           -       12.00       0.00  \n",
      "2           -       10.00       0.00  \n",
      "3        3.00       10.00          -  \n",
      "4        3.00        6.00       0.00  \n",
      "5        6.00        2.00       0.00  \n",
      "6        3.00        4.00          -  \n",
      "7        0.00        6.00       6.00  \n",
      "8        3.00        6.00       0.00  \n",
      "9        0.00        8.00       0.00  \n",
      "10       3.00           -          -  \n",
      "11          -           -          -  \n",
      "12       6.00        2.00       0.00  \n",
      "13       3.00        4.00          -  \n",
      "14       0.00        4.00       6.00  \n",
      "15          -       10.00       0.00  \n",
      "16       3.00        0.00          -  \n",
      "17       3.00        2.00       0.00  \n",
      "18       0.00        4.00          -  \n",
      "19       0.00        6.00       6.00  \n",
      "20       0.00        6.00       0.00  \n",
      "21          -           -          -  \n",
      "22       0.00        0.00       0.00  \n",
      "23       0.00        8.00       0.00  \n",
      "\n",
      "Top 10 Rows\n",
      "      State                 Started on                   Completed  \\\n",
      "0  Finished   February 5 2018  3:19 PM    February 5 2018  3:34 PM   \n",
      "1  Finished   February 4 2018  4:01 PM    February 4 2018  4:19 PM   \n",
      "2  Finished   February 6 2018  3:57 PM    February 6 2018  4:12 PM   \n",
      "3  Finished  February 10 2018  4:05 PM   February 10 2018  4:23 PM   \n",
      "4  Finished   February 4 2018  4:59 PM    February 4 2018  5:16 PM   \n",
      "5  Finished   February 5 2018  5:20 PM    February 5 2018  5:38 PM   \n",
      "6  Finished  February 10 2018  9:49 PM  February 10 2018  10:07 PM   \n",
      "7  Finished   February 5 2018  8:30 PM    February 5 2018  8:48 PM   \n",
      "8  Finished  February 13 2018  4:17 AM   February 13 2018  4:35 AM   \n",
      "9  Finished  February 12 2018  2:19 PM   February 12 2018  2:35 PM   \n",
      "\n",
      "        Time taken  Grade/45.00  Q. 1 /5.00  Q. 2 /10.00  Q. 3 /6.00  \\\n",
      "0  14 mins 16 secs           32           5            6           6   \n",
      "1  17 mins 54 secs           31           5            8           6   \n",
      "2  15 mins 44 secs           20           3            4           3   \n",
      "3          18 mins           30           5            6           6   \n",
      "4  17 mins 31 secs           26           5            6           6   \n",
      "5  17 mins 59 secs           25           5            6           6   \n",
      "6          18 mins           24           5            6           6   \n",
      "7          18 mins           23           5            6           0   \n",
      "8    18 mins 1 sec           23           4            4           6   \n",
      "9  16 mins 44 secs           22           4            4           6   \n",
      "\n",
      "  Q. 4 /6.00 Q. 5 /12.00 Q. 6 /6.00  id  \n",
      "0       3.00       12.00       0.00   0  \n",
      "1          -       12.00       0.00   1  \n",
      "2          -       10.00       0.00  12  \n",
      "3       3.00       10.00          -   2  \n",
      "4       3.00        6.00       0.00   3  \n",
      "5       6.00        2.00       0.00   4  \n",
      "6       3.00        4.00          -   5  \n",
      "7       0.00        6.00       6.00   6  \n",
      "8       3.00        6.00       0.00   7  \n",
      "9       0.00        8.00       0.00   8  \n"
     ]
    }
   ],
   "source": [
    "def Q4_function(dataframe):\n",
    "    \"\"\"\n",
    "    :type : DataFrame\n",
    "    :rtype: [String], DataFrame, DataFrame\n",
    "    \"\"\"\n",
    "    columnnames = []\n",
    "    columnnames = list(dataframe.columns)         #returns the column list in dataframe\n",
    "    \n",
    "    data_subset = dataframe.loc[ : , ['id', 'Time taken','Grade/45.00','Q. 1 /5.00','Q. 2 /10.00','Q. 3 /6.00','Q. 4 /6.00','Q. 5 /12.00','Q. 6 /6.00']]\n",
    "    top10rows = dataframe.head(10)                #returns the top 10 rows\n",
    "    \n",
    "    return columnnames,data_subset,top10rows\n",
    "   \n",
    "\n",
    "\n",
    "# Call the function and print the results. These results are used in subsequent questions.\n",
    "names, df_subset, top_10 = Q4_function(functions_df)\n",
    "\n",
    "print(\"Column Names\")\n",
    "print(names)\n",
    "print()\n",
    "print(\"Subsetted Data\")\n",
    "print(df_subset)\n",
    "print()\n",
    "print(\"Top 10 Rows\")\n",
    "print(top_10)"
   ]
  },
  {
   "cell_type": "markdown",
   "metadata": {
    "hideCode": false,
    "hidePrompt": true
   },
   "source": [
    "### Question 5: Using the subsetted DataFrame from the previous question, complete the following tasks.\n",
    "\n",
    "* Identify the data type of every column. Return as a list. *(read about dtypes)*\n",
    "* Strip all white spaces from the columns. \n",
    "    + try using list comprehension along with the 'sub' function in 're' module\n",
    "* Check if 'Time taken' column has NA or empty values:\n",
    "    + use `df.isnull().any()`. \n",
    "    + If YES, replace with 0: use `df.fillna()`.\n",
    "* Using `regex` (`re.search`), convert the 'Time taken' column into seconds (int) and store in a new column called 'time' (e.g., convert __2 mins 10 secs__ into __130__. Note that to get 130, you need to do some math. Use coersion to convert str to int.\n",
    "* Return the DataFrame with 'Time taken' column dropped."
   ]
  },
  {
   "cell_type": "code",
   "execution_count": 6,
   "metadata": {
    "hideCode": false,
    "hidePrompt": true
   },
   "outputs": [
    {
     "name": "stdout",
     "output_type": "stream",
     "text": [
      "Column Datatypes\n",
      "['int64', 'object', 'int64', 'int64', 'int64', 'int64', 'object', 'object', 'object']\n",
      "\n",
      "New Update DataFrame\n",
      "    id  Grade/45.00  Q. 1 /5.00  Q. 2 /10.00  Q. 3 /6.00 Q. 4 /6.00  \\\n",
      "0    0           32           5            6           6       3.00   \n",
      "1    1           31           5            8           6          -   \n",
      "2   12           20           3            4           3          -   \n",
      "3    2           30           5            6           6       3.00   \n",
      "4    3           26           5            6           6       3.00   \n",
      "5    4           25           5            6           6       6.00   \n",
      "6    5           24           5            6           6       3.00   \n",
      "7    6           23           5            6           0       0.00   \n",
      "8    7           23           4            4           6       3.00   \n",
      "9    8           22           4            4           6       0.00   \n",
      "10   9           22           5            8           6       3.00   \n",
      "11  10           21           5           10           6          -   \n",
      "12   4           25           5            6           6       6.00   \n",
      "13   5           24           5            6           6       3.00   \n",
      "14  11           21           4            4           3       0.00   \n",
      "15  12           20           3            4           3          -   \n",
      "16  13           17           4            4           6       3.00   \n",
      "17  14           17           5            4           3       3.00   \n",
      "18  15           16           3            6           3       0.00   \n",
      "19   6           23           5            6           0       0.00   \n",
      "20  16           15           4            2           3       0.00   \n",
      "21  17           13           3            4           6          -   \n",
      "22  18           13           3            4           6       0.00   \n",
      "23   8           22           4            4           6       0.00   \n",
      "\n",
      "   Q. 5 /12.00 Q. 6 /6.00  time  \n",
      "0        12.00       0.00   856  \n",
      "1        12.00       0.00  1074  \n",
      "2        10.00       0.00   944  \n",
      "3        10.00          -  1080  \n",
      "4         6.00       0.00  1051  \n",
      "5         2.00       0.00  1079  \n",
      "6         4.00          -  1080  \n",
      "7         6.00       6.00  1080  \n",
      "8         6.00       0.00  1081  \n",
      "9         8.00       0.00  1004  \n",
      "10           -          -  1081  \n",
      "11           -          -  1080  \n",
      "12        2.00       0.00  1079  \n",
      "13        4.00          -  1080  \n",
      "14        4.00       6.00   779  \n",
      "15       10.00       0.00   944  \n",
      "16        0.00          -  1081  \n",
      "17        2.00       0.00  1080  \n",
      "18        4.00          -  1081  \n",
      "19        6.00       6.00  1080  \n",
      "20        6.00       0.00  2919  \n",
      "21           -          -  1081  \n",
      "22        0.00       0.00   871  \n",
      "23        8.00       0.00  1004  \n"
     ]
    }
   ],
   "source": [
    "def Q5_function(df):\n",
    "    \n",
    "    \"\"\"\n",
    "    :type : DataFrame\n",
    "    :rtype: [String], DataFrame\n",
    "    \"\"\"\n",
    "    # TYPE YOUR CODE HERE\n",
    "    df1 = df.copy(deep=True)\n",
    "    column_data_type = []\n",
    "    for dt in df.dtypes:\n",
    "        column_data_type.append(dt.name)                                  #return the column datatypes\n",
    "    for col in df1.columns:\n",
    "        for r in range(len(df1.index)):\n",
    "            if isinstance(df1.iloc[r][col] , str):\n",
    "                df1.at[r,col]=re.sub(r\"\\s+\", \"\", df1.iloc[r][col])        #strips all white spaces\n",
    "                \n",
    "                                     \n",
    "    if df1['Time taken'].isnull().any():                                  #checks for NA or NUll values\n",
    "        df1['Time taken'].fillna()                                        #replace with 0   \n",
    "        \n",
    "\n",
    "    timelist = []                                                         #changes the timetaken column to time\n",
    "    for r in df1['Time taken']:      \n",
    "        mint = re.search(r\"\\d+m\", r)\n",
    "        sec = re.search(r\"\\d+s\", r)\n",
    "        time = 0\n",
    "        if mint:\n",
    "            time = int(mint.group()[:-1])*60\n",
    "        if sec:\n",
    "            time += int(sec.group()[:-1])\n",
    "        timelist.append(time)\n",
    "    df1['time'] = timelist\n",
    "    df1 = df1.drop(['Time taken'], axis = 1)\n",
    "    return column_data_type,df1\n",
    "    \n",
    "    \n",
    "\n",
    "\n",
    "# Call the function and print the results. These results are used in subsequent questions.\n",
    "column_types, Q5_df = Q5_function(df_subset)\n",
    "print(\"Column Datatypes\")\n",
    "print(column_types)\n",
    "print()\n",
    "print(\"New Update DataFrame\")\n",
    "print(Q5_df)\n"
   ]
  },
  {
   "cell_type": "markdown",
   "metadata": {
    "hideCode": false,
    "hidePrompt": true
   },
   "source": [
    "### Question 6: Using the returned DataFrame from the previous question, complete the following tasks.\n",
    "\n",
    "* Some columns might need to be converted to integer for the subsequent tasks. Identify which columns and convert them to int/float.\n",
    "* Are there any duplicate rows? Remove them from the DataFrame.\n",
    "* Data collected might be corrupt. Check whether data is missing or corrupt. Data is missing if there is a '-'. If missing data exists, replace with the mean of other values.\n",
    "* With the above point in mind, find the mean values of all columns except 'id'. Append these as a row to your dataframe and return\n",
    "\n",
    "*Hint: Note that the maximum marks for each column is different. Make sure you parse the information from the column name.*"
   ]
  },
  {
   "cell_type": "code",
   "execution_count": 7,
   "metadata": {
    "hideCode": false,
    "hidePrompt": true
   },
   "outputs": [
    {
     "name": "stdout",
     "output_type": "stream",
     "text": [
      "      id  Grade/45.00  Q. 1 /5.00  Q. 2 /10.00  Q. 3 /6.00  Q. 4 /6.00  \\\n",
      "0    0.0    32.000000    5.000000     6.000000    6.000000         3.0   \n",
      "1    1.0    31.000000    5.000000     8.000000    6.000000         2.0   \n",
      "2   12.0    20.000000    3.000000     4.000000    3.000000         2.0   \n",
      "3    2.0    30.000000    5.000000     6.000000    6.000000         3.0   \n",
      "4    3.0    26.000000    5.000000     6.000000    6.000000         3.0   \n",
      "5    4.0    25.000000    5.000000     6.000000    6.000000         6.0   \n",
      "6    5.0    24.000000    5.000000     6.000000    6.000000         3.0   \n",
      "7    6.0    23.000000    5.000000     6.000000    0.000000         0.0   \n",
      "8    7.0    23.000000    4.000000     4.000000    6.000000         3.0   \n",
      "9    8.0    22.000000    4.000000     4.000000    6.000000         0.0   \n",
      "10   9.0    22.000000    5.000000     8.000000    6.000000         3.0   \n",
      "11  10.0    21.000000    5.000000    10.000000    6.000000         2.0   \n",
      "12  11.0    21.000000    4.000000     4.000000    3.000000         0.0   \n",
      "13  13.0    17.000000    4.000000     4.000000    6.000000         3.0   \n",
      "14  14.0    17.000000    5.000000     4.000000    3.000000         3.0   \n",
      "15  15.0    16.000000    3.000000     6.000000    3.000000         0.0   \n",
      "16  16.0    15.000000    4.000000     2.000000    3.000000         0.0   \n",
      "17  17.0    13.000000    3.000000     4.000000    6.000000         2.0   \n",
      "18  18.0    13.000000    3.000000     4.000000    6.000000         0.0   \n",
      "19   NaN    21.631579    4.315789     5.368421    4.894737         2.0   \n",
      "\n",
      "    Q. 5 /12.00  Q. 6 /6.00         time  \n",
      "0         12.00         0.0   856.000000  \n",
      "1         12.00         0.0  1074.000000  \n",
      "2         10.00         0.0   944.000000  \n",
      "3         10.00         1.0  1080.000000  \n",
      "4          6.00         0.0  1051.000000  \n",
      "5          2.00         0.0  1079.000000  \n",
      "6          4.00         1.0  1080.000000  \n",
      "7          6.00         6.0  1080.000000  \n",
      "8          6.00         0.0  1081.000000  \n",
      "9          8.00         0.0  1004.000000  \n",
      "10         5.75         1.0  1081.000000  \n",
      "11         5.75         1.0  1080.000000  \n",
      "12         4.00         6.0   779.000000  \n",
      "13         0.00         1.0  1081.000000  \n",
      "14         2.00         0.0  1080.000000  \n",
      "15         4.00         1.0  1081.000000  \n",
      "16         6.00         0.0  2919.000000  \n",
      "17         5.75         1.0  1081.000000  \n",
      "18         0.00         0.0   871.000000  \n",
      "19         5.75         1.0  1125.368421  \n"
     ]
    }
   ],
   "source": [
    "def Q6_function(df):\n",
    "    \n",
    "    \"\"\"\n",
    "    :type : DataFrame\n",
    "    :rtype: DataFrame\n",
    "    \"\"\"\n",
    "    # TYPE YOUR CODE HERE\n",
    "    import numpy\n",
    "    df1 = df.copy(deep=True)\n",
    "    df1 = df.drop_duplicates()                      #drops duplicates\n",
    "    df1 = df1.replace(\"-\",numpy.nan)                #replaces '-' with NAN\n",
    "    df1 = df1.astype({'Q. 4 /6.00':'float64', 'Q. 5 /12.00':'float64', 'Q. 6 /6.00':'float64'})\n",
    "    df1 = df1.fillna(df1.mean())                    #fills with means\n",
    "\n",
    "                  \n",
    "    meandict = {}\n",
    "    for col in df1.columns:\n",
    "        if col != 'id':\n",
    "            sum = 0\n",
    "            count = 0\n",
    "            for r in range(len(df1.index)):\n",
    "                sum += float(df1.iloc[r][col])\n",
    "                count += 1\n",
    "            mean = sum/count                        #calculates mean\n",
    "            meandict[col] = mean\n",
    "    df1 = df1.append(meandict,ignore_index=True,sort=False)\n",
    "    \n",
    "    return df1\n",
    "\n",
    "# Call the function and print the results.\n",
    "Q6_df = Q6_function(Q5_df)\n",
    "print(Q6_df)"
   ]
  },
  {
   "cell_type": "markdown",
   "metadata": {
    "hideCode": false,
    "hidePrompt": true
   },
   "source": [
    "\n",
    "\n",
    "### Question 7: Use previously created functions to load the 'Exceptions' dataset as a dataframe\n",
    "\n",
    "* Calculate the mean of the total grade obtained by the students.\n",
    "* Calculate the standard deviation of the total grade obtained by the students.\n",
    "* Calculate Q1,Q2 and Q3 (quantiles) for the total grade.\n",
    "* Find the maximum and minimum values for the total grade\n",
    "\n",
    "* Return all values rounded to 2 decimal places\n",
    "\n",
    "*Hint: Use the df.describe function*"
   ]
  },
  {
   "cell_type": "code",
   "execution_count": 8,
   "metadata": {
    "hideCode": false,
    "hidePrompt": true
   },
   "outputs": [
    {
     "name": "stdout",
     "output_type": "stream",
     "text": [
      "Mean: 14.83\n",
      "Std. Dev.: 2.19\n",
      "First Quantile 13.46\n",
      "Second Quantile 14.66\n",
      "Third Quantile 16.62\n",
      "Max: 18.5\n",
      "Min: 10.83\n"
     ]
    }
   ],
   "source": [
    "def Q7_function(file):\n",
    "    \"\"\"\n",
    "    :type : String\n",
    "    :rtype: Float\n",
    "    \"\"\"\n",
    "    # TYPE YOUR CODE HERE\n",
    "    filenames = Q1_function()\n",
    "    dataframe = Q3_function(filenames, file)\n",
    "    mean = dataframe[\"Grade/21.00\"].mean()                          #calculate mean\n",
    "    std = dataframe[\"Grade/21.00\"].std()                            #caluculate std\n",
    "    q1 =  dataframe[\"Grade/21.00\"].quantile(.25)                    #calculate 1st quantile\n",
    "    q2 =  dataframe[\"Grade/21.00\"].quantile(.50)                    #calculate 2nd quantile\n",
    "    q3 =  dataframe[\"Grade/21.00\"].quantile(.75)                    #calculate 3rd quantile\n",
    "    maximum = dataframe[\"Grade/21.00\"].max()                        #calculate max\n",
    "    minimum = dataframe[\"Grade/21.00\"].min()                        #calculate min \n",
    "    mean = round(mean,2)                                            #rounding off values\n",
    "    std = round(std,2)\n",
    "    q1 = round(q1,2)\n",
    "    q2 = round(q2,2)\n",
    "    q3 = round(q3,2)\n",
    "    maximum = round(maximum,2)\n",
    "    minimum = round(minimum,2)\n",
    "    \n",
    "    return mean,std,q1,q2,q3,maximum,minimum \n",
    "    \n",
    "    \n",
    "\n",
    "# Call the function and print the results.\n",
    "mean_,std_,q1,q2,q3,max_,min_ = Q7_function(file=\"Exceptions\")\n",
    "print(\"Mean:\", mean_)\n",
    "print(\"Std. Dev.:\", std_)\n",
    "print(\"First Quantile\", q1)\n",
    "print(\"Second Quantile\", q2)\n",
    "print(\"Third Quantile\", q3)\n",
    "print(\"Max:\", max_)\n",
    "print(\"Min:\", min_)"
   ]
  },
  {
   "cell_type": "markdown",
   "metadata": {
    "hideCode": false,
    "hidePrompt": true
   },
   "source": [
    "### Question 8: Create a boxplot of the grade distribution in the 'Exceptions' dataset.\n",
    "\n",
    "* Compare the plot lines to the values calculated in the previous question.\n",
    "* Use df.plot.box function."
   ]
  },
  {
   "cell_type": "code",
   "execution_count": 9,
   "metadata": {
    "hideCode": false,
    "hidePrompt": true,
    "scrolled": true
   },
   "outputs": [
    {
     "data": {
      "text/plain": [
       "<matplotlib.axes._subplots.AxesSubplot at 0x1b1fdac7e80>"
      ]
     },
     "execution_count": 9,
     "metadata": {},
     "output_type": "execute_result"
    },
    {
     "data": {
      "image/png": "[encoded data removed]",
      "text/plain": [
       "<Figure size 432x288 with 1 Axes>"
      ]
     },
     "metadata": {
      "needs_background": "light"
     },
     "output_type": "display_data"
    }
   ],
   "source": [
    "def Q8_function(file):\n",
    "    \n",
    "    \"\"\"\n",
    "    :type : String\n",
    "    :rtype: Plot\n",
    "    \"\"\"\n",
    "    \n",
    "    df = Q3_function(filenames, file)\n",
    "    Q8_plot = df[['Grade/21.00']].plot.box(return_type='axes')\n",
    "    \n",
    "    return Q8_plot\n",
    "\n",
    "\n",
    "# Call the function. Plot will display.\n",
    "Q8_function(file='Exceptions')"
   ]
  },
  {
   "cell_type": "markdown",
   "metadata": {
    "hideCode": false,
    "hidePrompt": true
   },
   "source": [
    "### Question 9: Return the number of rows and columns present in the 'Strings' dataset\n",
    "\n",
    "* Use the `df.shape` attribute."
   ]
  },
  {
   "cell_type": "code",
   "execution_count": 10,
   "metadata": {
    "hideCode": false,
    "hidePrompt": true
   },
   "outputs": [
    {
     "name": "stdout",
     "output_type": "stream",
     "text": [
      "Rows: 17\n",
      "Columns: 7\n"
     ]
    }
   ],
   "source": [
    "def Q9_function(file):\n",
    "    \n",
    "    \"\"\"\n",
    "    :type : String\n",
    "    :rtype: list\n",
    "    \"\"\" \n",
    "    # TYPE YOUR CODE HERE\n",
    "    \n",
    "    filenames = Q1_function()\n",
    "    functions_df = Q3_function(filenames, file)\n",
    "    return list(functions_df.shape)\n",
    "    \n",
    "    \n",
    "         #CHANGE THE QUESTION TO Q3\n",
    "\n",
    "\n",
    "# Call the function and print the results\n",
    "rows, columns = Q9_function (file='Strings')\n",
    "print(\"Rows:\",rows)\n",
    "print(\"Columns:\",columns)"
   ]
  },
  {
   "cell_type": "markdown",
   "metadata": {
    "hideCode": false,
    "hidePrompt": true
   },
   "source": [
    "### Question 10: Use the output from Question 5. Group the students based on their score in 'Q. 5 /12.00' column\n",
    "\n",
    "* Which students scored 0 \n",
    "* How many students achieved the maximum possible score\n",
    "* Consider NA/missing values as 0\n",
    "\n",
    "*Hint : Use groupby function.*\n"
   ]
  },
  {
   "cell_type": "code",
   "execution_count": 11,
   "metadata": {
    "hideCode": false,
    "hidePrompt": true
   },
   "outputs": [
    {
     "name": "stdout",
     "output_type": "stream",
     "text": [
      "Students scoring zero : [9, 10, 13, 17, 18]\n",
      "Number of students with maximum score : 2\n"
     ]
    }
   ],
   "source": [
    "def Q10_function(df):\n",
    "    \n",
    "    \"\"\"\n",
    "    :type : DataFrame\n",
    "    :rtype: list, int\n",
    "    \"\"\" \n",
    "    # TYPE YOUR CODE HERE\n",
    "    \n",
    "    import numpy\n",
    "    \n",
    "    df = df.replace(\"-\",numpy.nan)                                      #replace '-' with nan\n",
    "    df = df.astype({'Q. 5 /12.00':'float64'})                           #convert to float\n",
    "    df = df.fillna(0)                                                   #fill with 0\n",
    "    \n",
    "    newgroup = df.groupby('Q. 5 /12.00')                                #group by 'Q. 5 /12.00'\n",
    "    newgroupframe = newgroup.get_group(0.00)                            #get 0 values\n",
    "    newgroupframe = newgroupframe['id']                                 #get id of 0 values \n",
    "    newgrouplist = list(newgroupframe)                                  #convert to list\n",
    "                       \n",
    "    maximum = 0.00\n",
    "    count = 0\n",
    "    for col in df.columns:\n",
    "        if col in ['Q. 5 /12.00']:\n",
    "            for r in range(len(df.index)):\n",
    "                if float(df.iloc[r][col]) > maximum: \n",
    "                    maximum = float(df.iloc[r][col])                   # caluculate maximum value  \n",
    "            for r in range(len(df.index)):\n",
    "                if float(df.iloc[r][col]) == maximum:\n",
    "                    count += 1                                         #calculate count of max values\n",
    "                    \n",
    "    return newgrouplist,count\n",
    "\n",
    "\n",
    "# Call the function and print the results\n",
    "zero, maximum = Q10_function(Q5_df)\n",
    "print(\"Students scoring zero :\",zero)\n",
    "print(\"Number of students with maximum score :\",maximum)"
   ]
  },
  {
   "cell_type": "markdown",
   "metadata": {
    "hideCode": false,
    "hidePrompt": true
   },
   "source": [
    "### Question 11: Find out who ('id') has scored the maximum combined score in the 'Tuples' and 'Taxonomy' quiz.\n",
    "\n",
    "* Use the `pd.merge()` function.\n",
    "* Call the function you wrote for Question 5 to convert time and remove spaces in columns (will be used in later questions).\n",
    "* Create a new column 'Total_score' which is the sum of the scores of the two quizzes."
   ]
  },
  {
   "cell_type": "code",
   "execution_count": 12,
   "metadata": {
    "hideCode": false,
    "hidePrompt": true
   },
   "outputs": [
    {
     "name": "stdout",
     "output_type": "stream",
     "text": [
      "Max scorer : 10\n"
     ]
    }
   ],
   "source": [
    "def Q11_function():\n",
    "    \n",
    "    \"\"\"\n",
    "    :type : None\n",
    "    :rtype: Dataframe, int\n",
    "    \"\"\" \n",
    "    # TYPE YOUR CODE HERE\n",
    "    \n",
    "    filenames = Q1_function()\n",
    "    dataframe1 = Q3_function(filenames, \"Taxonomy\")                         #getting dataframe taxonomy\n",
    "    colum, dataframe1 = Q5_function(dataframe1)\n",
    "    filenames = Q1_function()\n",
    "    dataframe2 = Q3_function(filenames, \"Tuples\")                           #getting dataframe tuples\n",
    "    colum, dataframe2 = Q5_function(dataframe2)\n",
    "    dataframe3=dataframe1.merge(dataframe2, how = \"inner\", on = \"id\")       #merging the two data frames on inner join for id\n",
    "    \n",
    "    dataframe3['Total_Score'] = dataframe3['Grade/21.00'] + dataframe3['Grade/20.00']\n",
    "    maxscorer = []\n",
    "    maximum = 0.00\n",
    "    count = 0\n",
    "    for col in dataframe3.columns:\n",
    "        if col in ['Total_Score']:\n",
    "            for r in range(len(dataframe3.index)):\n",
    "                if float(dataframe3.iloc[r][col]) > maximum:\n",
    "                    maximum = float(dataframe3.iloc[r][col])                #calculating maximum value\n",
    "            for r in range(len(dataframe3.index)):\n",
    "                if float(dataframe3.iloc[r][col]) == maximum:\n",
    "                    maxscorer.append(dataframe3.loc[r]['id'])               #getting maxscorer id\n",
    "    return dataframe3,maxscorer[0]             \n",
    "# Call the function and print the results. The DataFrame will be used in subsequent questions\n",
    "Q11_df,max_scorer = Q11_function()\n",
    "print(\"Max scorer :\",max_scorer)"
   ]
  },
  {
   "cell_type": "markdown",
   "metadata": {
    "hideCode": false,
    "hidePrompt": true
   },
   "source": [
    "### Question 12: Use the DataFrame generated in Question 11 and return the list of ids whose total time for both quizzes is less than than 20 minutes.\n",
    "\n",
    "* Sort the list before returning.\n",
    "* Can you code it in one line?"
   ]
  },
  {
   "cell_type": "code",
   "execution_count": 13,
   "metadata": {
    "hideCode": false,
    "hidePrompt": true
   },
   "outputs": [
    {
     "name": "stdout",
     "output_type": "stream",
     "text": [
      "ID of students : [3, 4, 7, 8, 12, 18]\n"
     ]
    }
   ],
   "source": [
    "def Q12_function(df):\n",
    "    \n",
    "    \"\"\"\n",
    "    :type : DataFrame\n",
    "    :rtype: list(int)\n",
    "    \"\"\" \n",
    "    # TYPE YOUR CODE HERE\n",
    "    id_list = [ df.loc[r]['id'] for r in range(len(df.index)) if df.iloc[r]['time_x'] + df.iloc[r]['time_y'] < 1200]  #selectin id of student in particular range\n",
    "    id_list.sort()\n",
    "    return id_list\n",
    "\n",
    "# Call the function and print the results.\n",
    "ids = Q12_function(Q11_df)\n",
    "print(\"ID of students :\",ids)"
   ]
  },
  {
   "cell_type": "markdown",
   "metadata": {
    "hideCode": false,
    "hidePrompt": true
   },
   "source": [
    "### Question 13: Discretize the column 'Grade/45.00' for the DataFrame generated in Question 6 and create a new column. Find the number of people (id) per bin. Return a DataFrame with only the bins and count per bin.\n",
    "\n",
    "*Hints:* \n",
    "* _Use 'cut' and 'groupby'._\n",
    "* _Include the overall average in the groupings._\n",
    "* _You won't need to use 'drop' to drop columns. Use groupby and check the result._\n",
    "* _Use 5 bins_\n",
    "* Don't consider 'Overall Average' row."
   ]
  },
  {
   "cell_type": "code",
   "execution_count": 14,
   "metadata": {
    "hideCode": false,
    "hidePrompt": true
   },
   "outputs": [
    {
     "name": "stdout",
     "output_type": "stream",
     "text": [
      "                count\n",
      "bin                  \n",
      "(12.981, 16.8]      4\n",
      "(16.8, 20.6]        3\n",
      "(20.6, 24.4]        7\n",
      "(24.4, 28.2]        2\n",
      "(28.2, 32.0]        3\n"
     ]
    }
   ],
   "source": [
    "def Q13_function(df):\n",
    "    \n",
    "    \"\"\"\n",
    "    :type : DataFrame\n",
    "    :rtype: DataFrame\n",
    "    \"\"\"    \n",
    "    # TYPE YOUR CODE HERE\n",
    "    grades = [10, 20, 30, 40, 45]                                          \n",
    "    df['bin'] = pd.cut(df['Grade/45.00'], 5)\n",
    "    df_new = df[:-1]\n",
    "    df_new = df_new.groupby(['bin']).count()\n",
    "    dfn = pd.DataFrame(df_new.iloc[:,0])\n",
    "    dfn = dfn.rename(columns={'id':'count'})\n",
    "    return dfn\n",
    "\n",
    "\n",
    "# Call the function and print the results.\n",
    "Q13_df = Q13_function(Q6_df)\n",
    "print(Q13_df)"
   ]
  },
  {
   "cell_type": "markdown",
   "metadata": {
    "hideCode": false,
    "hidePrompt": true
   },
   "source": [
    "### INSTRUCTIONS: Complete unit testing for the remaining functions to check correctness of your code."
   ]
  },
  {
   "cell_type": "code",
   "execution_count": 1,
   "metadata": {
    "hideCode": false,
    "hidePrompt": true
   },
   "outputs": [
    {
     "name": "stderr",
     "output_type": "stream",
     "text": [
      "test_001_finction (__main__.TestNotebook) ... ERROR\n",
      "test_Q02_function (__main__.TestNotebook) ... ERROR\n",
      "test_Q03_function (__main__.TestNotebook) ... ERROR\n",
      "test_Q04_function (__main__.TestNotebook) ... ERROR\n",
      "test_Q05_function (__main__.TestNotebook) ... ERROR\n",
      "test_Q06_function (__main__.TestNotebook) ... ERROR\n",
      "test_Q07_function (__main__.TestNotebook) ... ERROR\n",
      "test_Q09_function (__main__.TestNotebook) ... ERROR\n",
      "test_Q10_function (__main__.TestNotebook) ... ERROR\n",
      "test_Q11_function (__main__.TestNotebook) ... ERROR\n",
      "test_Q12_function (__main__.TestNotebook) ... ERROR\n",
      "test_Q13_function (__main__.TestNotebook) ... ERROR\n",
      "\n",
      "======================================================================\n",
      "ERROR: test_001_finction (__main__.TestNotebook)\n",
      "----------------------------------------------------------------------\n",
      "Traceback (most recent call last):\n",
      "  File \"<ipython-input-1-a65c884a9ec3>\", line 11, in test_001_finction\n",
      "    result = Q1_function()\n",
      "NameError: name 'Q1_function' is not defined\n",
      "\n",
      "======================================================================\n",
      "ERROR: test_Q02_function (__main__.TestNotebook)\n",
      "----------------------------------------------------------------------\n",
      "Traceback (most recent call last):\n",
      "  File \"<ipython-input-1-a65c884a9ec3>\", line 23, in test_Q02_function\n",
      "    result=Q2_function(filenames, s = \"Lists\")\n",
      "NameError: name 'Q2_function' is not defined\n",
      "\n",
      "======================================================================\n",
      "ERROR: test_Q03_function (__main__.TestNotebook)\n",
      "----------------------------------------------------------------------\n",
      "Traceback (most recent call last):\n",
      "  File \"<ipython-input-1-a65c884a9ec3>\", line 30, in test_Q03_function\n",
      "    filenames = Q1_function()\n",
      "NameError: name 'Q1_function' is not defined\n",
      "\n",
      "======================================================================\n",
      "ERROR: test_Q04_function (__main__.TestNotebook)\n",
      "----------------------------------------------------------------------\n",
      "Traceback (most recent call last):\n",
      "  File \"<ipython-input-1-a65c884a9ec3>\", line 40, in test_Q04_function\n",
      "    cols_result,subset_result,top_result=Q4_function(functions_df)\n",
      "NameError: name 'Q4_function' is not defined\n",
      "\n",
      "======================================================================\n",
      "ERROR: test_Q05_function (__main__.TestNotebook)\n",
      "----------------------------------------------------------------------\n",
      "Traceback (most recent call last):\n",
      "  File \"<ipython-input-1-a65c884a9ec3>\", line 49, in test_Q05_function\n",
      "    types_columns, df_Q5 = Q5_function(df_subset)\n",
      "NameError: name 'Q5_function' is not defined\n",
      "\n",
      "======================================================================\n",
      "ERROR: test_Q06_function (__main__.TestNotebook)\n",
      "----------------------------------------------------------------------\n",
      "Traceback (most recent call last):\n",
      "  File \"<ipython-input-1-a65c884a9ec3>\", line 61, in test_Q06_function\n",
      "    Q6_dfth = Q6_function(Q5_df)\n",
      "NameError: name 'Q6_function' is not defined\n",
      "\n",
      "======================================================================\n",
      "ERROR: test_Q07_function (__main__.TestNotebook)\n",
      "----------------------------------------------------------------------\n",
      "Traceback (most recent call last):\n",
      "  File \"<ipython-input-1-a65c884a9ec3>\", line 69, in test_Q07_function\n",
      "    result=Q7_function(file=\"Exceptions\")\n",
      "NameError: name 'Q7_function' is not defined\n",
      "\n",
      "======================================================================\n",
      "ERROR: test_Q09_function (__main__.TestNotebook)\n",
      "----------------------------------------------------------------------\n",
      "Traceback (most recent call last):\n",
      "  File \"<ipython-input-1-a65c884a9ec3>\", line 74, in test_Q09_function\n",
      "    result = Q9_function (file='Strings')\n",
      "NameError: name 'Q9_function' is not defined\n",
      "\n",
      "======================================================================\n",
      "ERROR: test_Q10_function (__main__.TestNotebook)\n",
      "----------------------------------------------------------------------\n",
      "Traceback (most recent call last):\n",
      "  File \"<ipython-input-1-a65c884a9ec3>\", line 81, in test_Q10_function\n",
      "    zerostuds, maximums = Q10_function(Q5_df)\n",
      "NameError: name 'Q10_function' is not defined\n",
      "\n",
      "======================================================================\n",
      "ERROR: test_Q11_function (__main__.TestNotebook)\n",
      "----------------------------------------------------------------------\n",
      "Traceback (most recent call last):\n",
      "  File \"<ipython-input-1-a65c884a9ec3>\", line 88, in test_Q11_function\n",
      "    Q11_dfff,max_scorerval = Q11_function()\n",
      "NameError: name 'Q11_function' is not defined\n",
      "\n",
      "======================================================================\n",
      "ERROR: test_Q12_function (__main__.TestNotebook)\n",
      "----------------------------------------------------------------------\n",
      "Traceback (most recent call last):\n",
      "  File \"<ipython-input-1-a65c884a9ec3>\", line 93, in test_Q12_function\n",
      "    result=Q12_function(Q11_df)\n",
      "NameError: name 'Q12_function' is not defined\n",
      "\n",
      "======================================================================\n",
      "ERROR: test_Q13_function (__main__.TestNotebook)\n",
      "----------------------------------------------------------------------\n",
      "Traceback (most recent call last):\n",
      "  File \"<ipython-input-1-a65c884a9ec3>\", line 98, in test_Q13_function\n",
      "    temp = Q13_function(Q6_df)\n",
      "NameError: name 'Q13_function' is not defined\n",
      "\n",
      "----------------------------------------------------------------------\n",
      "Ran 12 tests in 0.020s\n",
      "\n",
      "FAILED (errors=12)\n"
     ]
    },
    {
     "data": {
      "text/plain": [
       "<unittest.main.TestProgram at 0x13b3d543358>"
      ]
     },
     "execution_count": 1,
     "metadata": {},
     "output_type": "execute_result"
    }
   ],
   "source": [
    "import unittest\n",
    "\n",
    "class TestNotebook(unittest.TestCase):\n",
    "\n",
    "\n",
    "    def test_001_finction(self):\n",
    "        \n",
    "        ans = ['Python-QUIZ Coercion (6 min.)-grades.xlsx', 'Python-QUIZ Conditionals (6 min.)-grades.xlsx', 'Python-QUIZ Dictionaries (10 min.)-grades.xlsx', 'Python-QUIZ Exceptions (10 min.)-grades.xlsx', 'Python-QUIZ Functions (18 min.)-grades.xlsx', 'Python-QUIZ Iterations (6 min.)-grades.xlsx', 'Python-QUIZ Lists (10 min.)-grades.xlsx', 'Python-QUIZ Sets (7 min)-grades.xlsx', 'Python-QUIZ Strings (5 min.)-grades.xlsx', 'Python-QUIZ Taxonomy of Python Data Structures (12 min.)-grades.xlsx', 'Python-QUIZ Tuples (10 min.)-grades.xlsx']\n",
    "        filenames = []\n",
    "        result = []\n",
    "        result = Q1_function()\n",
    "        \n",
    "        for word in result: \n",
    "            word = word.split(\"/\")[-1].split(\"\\\\\")[-1]\n",
    "            filenames.append(word)      \n",
    "        \n",
    "        self.assertEqual(ans,filenames)\n",
    "        \n",
    "    def test_Q02_function(self):\n",
    "        \n",
    "        ans='Python-QUIZ Lists (10 min.)-grades.xlsx'\n",
    "        \n",
    "        result=Q2_function(filenames, s = \"Lists\")\n",
    "        \n",
    "        #Handling removal of the path to check only filename\n",
    "        self.assertEqual(ans,result)\n",
    "        \n",
    "    def test_Q03_function(self):  \n",
    "        ans = ['State','Started on','Completed','Time taken','Grade/45.00','Q. 1 /5.00','Q. 2 /10.00','Q. 3 /6.00','Q. 4 /6.00','Q. 5 /12.00','Q. 6 /6.00','id']\n",
    "        filenames = Q1_function()\n",
    "        answer = Q3_function(filenames, s = \"Functions\")\n",
    "        self.assertEqual(ans,list(answer))\n",
    "        \n",
    "    def test_Q04_function(self):\n",
    "        \n",
    "        cols_ans=['State', 'Started on', 'Completed', 'Time taken', 'Grade/45.00', 'Q. 1 /5.00', 'Q. 2 /10.00', 'Q. 3 /6.00', 'Q. 4 /6.00', 'Q. 5 /12.00', 'Q. 6 /6.00',  'id']\n",
    "        subset_cols_ans= [\"id\", \"Time taken\", \"Grade/45.00\", \"Q. 1 /5.00\", \"Q. 2 /10.00\", \"Q. 3 /6.00\", \"Q. 4 /6.00\", \"Q. 5 /12.00\", \"Q. 6 /6.00\"]\n",
    "        top_ans=10\n",
    "        \n",
    "        cols_result,subset_result,top_result=Q4_function(functions_df)\n",
    "\n",
    "        self.assertEqual(cols_ans,list(cols_result))\n",
    "        self.assertEqual(subset_cols_ans,list(subset_result.columns))\n",
    "        self.assertEqual(top_ans,len(top_result))\n",
    "        \n",
    "    def test_Q05_function(self):\n",
    "        ansdtype = ['int64','object','int64','int64','int64','int64','object','object','object']\n",
    "        cols_ans= [\"id\", \"Grade/45.00\", \"Q. 1 /5.00\", \"Q. 2 /10.00\", \"Q. 3 /6.00\", \"Q. 4 /6.00\", \"Q. 5 /12.00\", \"Q. 6 /6.00\", 'time']\n",
    "        types_columns, df_Q5 = Q5_function(df_subset)\n",
    "        \n",
    "        resultdtype = []\n",
    "        for r in types_columns:\n",
    "            resultdtype.append(str(r))\n",
    "            \n",
    "        self.assertEqual(ansdtype,resultdtype)  \n",
    "        self.assertEqual(cols_ans,list(df_Q5.columns)) \n",
    "        \n",
    "    def test_Q06_function(self):    \n",
    "        q6columnans= ['id','Grade/45.00','Q. 1 /5.00','Q. 2 /10.00','Q. 3 /6.00','Q. 4 /6.00','Q. 5 /12.00','Q. 6 /6.00','time']\n",
    "        ansshape = (20,9)\n",
    "        Q6_dfth = Q6_function(Q5_df)\n",
    "        self.assertEqual(q6columnans,list(Q6_dfth.columns))\n",
    "        self.assertEqual(ansshape,Q6_dfth.shape)\n",
    "        \n",
    "        \n",
    "    def test_Q07_function(self):\n",
    "        \n",
    "        ans=(14.83,2.19,13.46,14.66,16.62,18.5,10.83) \n",
    "        result=Q7_function(file=\"Exceptions\")\n",
    "        self.assertEqual(ans, result)\n",
    "\n",
    "    def test_Q09_function(self):   \n",
    "        ansrowscols = [17,7]\n",
    "        result = Q9_function (file='Strings')\n",
    "        self.assertEqual(ansrowscols,result)\n",
    "        \n",
    "    def test_Q10_function(self):\n",
    "    \n",
    "        students0ans = [9, 10, 13, 17, 18]\n",
    "        maxscorecountans = 2\n",
    "        zerostuds, maximums = Q10_function(Q5_df)\n",
    "        self.assertEqual(zerostuds,students0ans)\n",
    "        self.assertEqual(maximums,maxscorecountans)\n",
    "        \n",
    "    def test_Q11_function(self):\n",
    "        \n",
    "        maxscorerans = 10\n",
    "        Q11_dfff,max_scorerval = Q11_function()\n",
    "        self.assertEqual(maxscorerans,max_scorerval)\n",
    "        \n",
    "    def test_Q12_function(self):\n",
    "        ans=[3, 4, 7, 8, 12, 18]   \n",
    "        result=Q12_function(Q11_df)\n",
    "        self.assertEqual(ans, result)\n",
    "        \n",
    "    def test_Q13_function(self):\n",
    "        ans = [[15, 16, 17, 18], [12, 13, 14], [5, 6, 7, 8, 9, 10, 11], [3, 4], [0, 1, 2]]\n",
    "        temp = Q13_function(Q6_df)\n",
    "        result = temp['count'].tolist()\n",
    "        \n",
    "        for x in range(len(ans)):\n",
    "            self.assertEqual(result[x], len(ans[x]))\n",
    "\n",
    "        \n",
    "unittest.main(argv=[''], verbosity=2, exit=False)"
   ]
  },
  {
   "cell_type": "code",
   "execution_count": null,
   "metadata": {},
   "outputs": [],
   "source": []
  }
 ],
 "metadata": {
  "celltoolbar": "Hide code",
  "hide_code_all_hidden": true,
  "kernelspec": {
   "display_name": "Python 3",
   "language": "python",
   "name": "python3"
  },
  "language_info": {
   "codemirror_mode": {
    "name": "ipython",
    "version": 3
   },
   "file_extension": ".py",
   "mimetype": "text/x-python",
   "name": "python",
   "nbconvert_exporter": "python",
   "pygments_lexer": "ipython3",
   "version": "3.7.3"
  }
 },
 "nbformat": 4,
 "nbformat_minor": 2
}
